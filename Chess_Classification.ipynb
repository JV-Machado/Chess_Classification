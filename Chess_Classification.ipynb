{
  "cells": [
    {
      "cell_type": "markdown",
      "metadata": {
        "id": "view-in-github",
        "colab_type": "text"
      },
      "source": [
        "<a href=\"https://colab.research.google.com/github/JV-Machado/Chess_Classification/blob/master/Chess_Classification.ipynb\" target=\"_parent\"><img src=\"https://colab.research.google.com/assets/colab-badge.svg\" alt=\"Open In Colab\"/></a>"
      ]
    },
    {
      "cell_type": "code",
      "execution_count": 49,
      "metadata": {
        "colab": {
          "base_uri": "https://localhost:8080/"
        },
        "id": "AbLcUrQp2Vow",
        "outputId": "d8897994-5598-4e83-dd30-f74446698cc4"
      },
      "outputs": [
        {
          "output_type": "stream",
          "name": "stdout",
          "text": [
            "Drive already mounted at /content/drive; to attempt to forcibly remount, call drive.mount(\"/content/drive\", force_remount=True).\n"
          ]
        }
      ],
      "source": [
        "from google.colab import drive\n",
        "drive.mount('/content/drive')"
      ]
    },
    {
      "cell_type": "code",
      "execution_count": 50,
      "metadata": {
        "id": "UKCb7Rex2Xmm"
      },
      "outputs": [],
      "source": [
        "# import zipfile\n",
        "# with zipfile.ZipFile('/content/drive/MyDrive/Chess_Project/Chess-image-dataset.zip', 'r') as zip_ref:\n",
        "#     zip_ref.extractall('/content/drive/MyDrive/Chess_Project/Folder_Chess_Dataset')"
      ]
    },
    {
      "cell_type": "markdown",
      "source": [
        "**Organização dos dados**"
      ],
      "metadata": {
        "id": "Nv834WQ9Q3No"
      }
    },
    {
      "cell_type": "code",
      "execution_count": 51,
      "metadata": {
        "id": "i1U1woj83wnR"
      },
      "outputs": [],
      "source": [
        "# import glob\n",
        "# from shutil import copyfile\n",
        "# import os\n",
        "\n",
        "# imgs = glob.glob(\"/content/drive/MyDrive/Chess_Project/Folder_Chess_Dataset/Chess-image-dataset/*/*\")\n",
        "# for img in imgs:\n",
        "#   class_name = img.split(\"/\")[-2][0:]\n",
        "#   img_name = img.split(\"/\")[-1][0:]\n",
        "#   copyfile(img, f'/content/drive/MyDrive/Chess_Project/data/-{class_name}-{img_name}')"
      ]
    },
    {
      "cell_type": "code",
      "execution_count": 52,
      "metadata": {
        "id": "DxBxE35I2X_w"
      },
      "outputs": [],
      "source": [
        "import pandas as pd\n",
        "import glob\n",
        "\n",
        "imgs_path = glob.glob('/content/drive/MyDrive/Chess_Project/data/*')\n",
        "lista = []\n",
        "\n",
        "for img_path in imgs_path:\n",
        "  name = img_path.split('-')[-2][0:]\n",
        "  # img = img_path.split('-')[-1][0:]\n",
        "  lista.append([img_path, name])"
      ]
    },
    {
      "cell_type": "code",
      "execution_count": 53,
      "metadata": {
        "id": "YKPa7vQY2YSg",
        "outputId": "7aa9c488-8972-406c-808e-2a27f5cbd417",
        "colab": {
          "base_uri": "https://localhost:8080/",
          "height": 423
        }
      },
      "outputs": [
        {
          "output_type": "execute_result",
          "data": {
            "text/plain": [
              "                                            Image_Path Image_Class\n",
              "0    /content/drive/MyDrive/Chess_Project/data/-Kni...      Knight\n",
              "1    /content/drive/MyDrive/Chess_Project/data/-Kni...      Knight\n",
              "2    /content/drive/MyDrive/Chess_Project/data/-Kni...      Knight\n",
              "3    /content/drive/MyDrive/Chess_Project/data/-Kni...      Knight\n",
              "4    /content/drive/MyDrive/Chess_Project/data/-Kni...      Knight\n",
              "..                                                 ...         ...\n",
              "646  /content/drive/MyDrive/Chess_Project/data/-Kni...      Knight\n",
              "647  /content/drive/MyDrive/Chess_Project/data/-Kni...      Knight\n",
              "648  /content/drive/MyDrive/Chess_Project/data/-Kni...      Knight\n",
              "649  /content/drive/MyDrive/Chess_Project/data/-Kni...      Knight\n",
              "650  /content/drive/MyDrive/Chess_Project/data/-Kni...      Knight\n",
              "\n",
              "[651 rows x 2 columns]"
            ],
            "text/html": [
              "\n",
              "  <div id=\"df-34dacb5b-de44-4634-b04b-b848653f84ac\">\n",
              "    <div class=\"colab-df-container\">\n",
              "      <div>\n",
              "<style scoped>\n",
              "    .dataframe tbody tr th:only-of-type {\n",
              "        vertical-align: middle;\n",
              "    }\n",
              "\n",
              "    .dataframe tbody tr th {\n",
              "        vertical-align: top;\n",
              "    }\n",
              "\n",
              "    .dataframe thead th {\n",
              "        text-align: right;\n",
              "    }\n",
              "</style>\n",
              "<table border=\"1\" class=\"dataframe\">\n",
              "  <thead>\n",
              "    <tr style=\"text-align: right;\">\n",
              "      <th></th>\n",
              "      <th>Image_Path</th>\n",
              "      <th>Image_Class</th>\n",
              "    </tr>\n",
              "  </thead>\n",
              "  <tbody>\n",
              "    <tr>\n",
              "      <th>0</th>\n",
              "      <td>/content/drive/MyDrive/Chess_Project/data/-Kni...</td>\n",
              "      <td>Knight</td>\n",
              "    </tr>\n",
              "    <tr>\n",
              "      <th>1</th>\n",
              "      <td>/content/drive/MyDrive/Chess_Project/data/-Kni...</td>\n",
              "      <td>Knight</td>\n",
              "    </tr>\n",
              "    <tr>\n",
              "      <th>2</th>\n",
              "      <td>/content/drive/MyDrive/Chess_Project/data/-Kni...</td>\n",
              "      <td>Knight</td>\n",
              "    </tr>\n",
              "    <tr>\n",
              "      <th>3</th>\n",
              "      <td>/content/drive/MyDrive/Chess_Project/data/-Kni...</td>\n",
              "      <td>Knight</td>\n",
              "    </tr>\n",
              "    <tr>\n",
              "      <th>4</th>\n",
              "      <td>/content/drive/MyDrive/Chess_Project/data/-Kni...</td>\n",
              "      <td>Knight</td>\n",
              "    </tr>\n",
              "    <tr>\n",
              "      <th>...</th>\n",
              "      <td>...</td>\n",
              "      <td>...</td>\n",
              "    </tr>\n",
              "    <tr>\n",
              "      <th>646</th>\n",
              "      <td>/content/drive/MyDrive/Chess_Project/data/-Kni...</td>\n",
              "      <td>Knight</td>\n",
              "    </tr>\n",
              "    <tr>\n",
              "      <th>647</th>\n",
              "      <td>/content/drive/MyDrive/Chess_Project/data/-Kni...</td>\n",
              "      <td>Knight</td>\n",
              "    </tr>\n",
              "    <tr>\n",
              "      <th>648</th>\n",
              "      <td>/content/drive/MyDrive/Chess_Project/data/-Kni...</td>\n",
              "      <td>Knight</td>\n",
              "    </tr>\n",
              "    <tr>\n",
              "      <th>649</th>\n",
              "      <td>/content/drive/MyDrive/Chess_Project/data/-Kni...</td>\n",
              "      <td>Knight</td>\n",
              "    </tr>\n",
              "    <tr>\n",
              "      <th>650</th>\n",
              "      <td>/content/drive/MyDrive/Chess_Project/data/-Kni...</td>\n",
              "      <td>Knight</td>\n",
              "    </tr>\n",
              "  </tbody>\n",
              "</table>\n",
              "<p>651 rows × 2 columns</p>\n",
              "</div>\n",
              "      <button class=\"colab-df-convert\" onclick=\"convertToInteractive('df-34dacb5b-de44-4634-b04b-b848653f84ac')\"\n",
              "              title=\"Convert this dataframe to an interactive table.\"\n",
              "              style=\"display:none;\">\n",
              "        \n",
              "  <svg xmlns=\"http://www.w3.org/2000/svg\" height=\"24px\"viewBox=\"0 0 24 24\"\n",
              "       width=\"24px\">\n",
              "    <path d=\"M0 0h24v24H0V0z\" fill=\"none\"/>\n",
              "    <path d=\"M18.56 5.44l.94 2.06.94-2.06 2.06-.94-2.06-.94-.94-2.06-.94 2.06-2.06.94zm-11 1L8.5 8.5l.94-2.06 2.06-.94-2.06-.94L8.5 2.5l-.94 2.06-2.06.94zm10 10l.94 2.06.94-2.06 2.06-.94-2.06-.94-.94-2.06-.94 2.06-2.06.94z\"/><path d=\"M17.41 7.96l-1.37-1.37c-.4-.4-.92-.59-1.43-.59-.52 0-1.04.2-1.43.59L10.3 9.45l-7.72 7.72c-.78.78-.78 2.05 0 2.83L4 21.41c.39.39.9.59 1.41.59.51 0 1.02-.2 1.41-.59l7.78-7.78 2.81-2.81c.8-.78.8-2.07 0-2.86zM5.41 20L4 18.59l7.72-7.72 1.47 1.35L5.41 20z\"/>\n",
              "  </svg>\n",
              "      </button>\n",
              "      \n",
              "  <style>\n",
              "    .colab-df-container {\n",
              "      display:flex;\n",
              "      flex-wrap:wrap;\n",
              "      gap: 12px;\n",
              "    }\n",
              "\n",
              "    .colab-df-convert {\n",
              "      background-color: #E8F0FE;\n",
              "      border: none;\n",
              "      border-radius: 50%;\n",
              "      cursor: pointer;\n",
              "      display: none;\n",
              "      fill: #1967D2;\n",
              "      height: 32px;\n",
              "      padding: 0 0 0 0;\n",
              "      width: 32px;\n",
              "    }\n",
              "\n",
              "    .colab-df-convert:hover {\n",
              "      background-color: #E2EBFA;\n",
              "      box-shadow: 0px 1px 2px rgba(60, 64, 67, 0.3), 0px 1px 3px 1px rgba(60, 64, 67, 0.15);\n",
              "      fill: #174EA6;\n",
              "    }\n",
              "\n",
              "    [theme=dark] .colab-df-convert {\n",
              "      background-color: #3B4455;\n",
              "      fill: #D2E3FC;\n",
              "    }\n",
              "\n",
              "    [theme=dark] .colab-df-convert:hover {\n",
              "      background-color: #434B5C;\n",
              "      box-shadow: 0px 1px 3px 1px rgba(0, 0, 0, 0.15);\n",
              "      filter: drop-shadow(0px 1px 2px rgba(0, 0, 0, 0.3));\n",
              "      fill: #FFFFFF;\n",
              "    }\n",
              "  </style>\n",
              "\n",
              "      <script>\n",
              "        const buttonEl =\n",
              "          document.querySelector('#df-34dacb5b-de44-4634-b04b-b848653f84ac button.colab-df-convert');\n",
              "        buttonEl.style.display =\n",
              "          google.colab.kernel.accessAllowed ? 'block' : 'none';\n",
              "\n",
              "        async function convertToInteractive(key) {\n",
              "          const element = document.querySelector('#df-34dacb5b-de44-4634-b04b-b848653f84ac');\n",
              "          const dataTable =\n",
              "            await google.colab.kernel.invokeFunction('convertToInteractive',\n",
              "                                                     [key], {});\n",
              "          if (!dataTable) return;\n",
              "\n",
              "          const docLinkHtml = 'Like what you see? Visit the ' +\n",
              "            '<a target=\"_blank\" href=https://colab.research.google.com/notebooks/data_table.ipynb>data table notebook</a>'\n",
              "            + ' to learn more about interactive tables.';\n",
              "          element.innerHTML = '';\n",
              "          dataTable['output_type'] = 'display_data';\n",
              "          await google.colab.output.renderOutput(dataTable, element);\n",
              "          const docLink = document.createElement('div');\n",
              "          docLink.innerHTML = docLinkHtml;\n",
              "          element.appendChild(docLink);\n",
              "        }\n",
              "      </script>\n",
              "    </div>\n",
              "  </div>\n",
              "  "
            ]
          },
          "metadata": {},
          "execution_count": 53
        }
      ],
      "source": [
        "df = pd.DataFrame(columns=[\"Image_Path\", \"Image_Class\"], data=lista)\n",
        "df"
      ]
    },
    {
      "cell_type": "code",
      "source": [
        "df['Image_Class'].value_counts()"
      ],
      "metadata": {
        "id": "YZ6xPZttz0nE",
        "outputId": "64ae423e-c86c-4a87-9b12-774646e4f213",
        "colab": {
          "base_uri": "https://localhost:8080/"
        }
      },
      "execution_count": 54,
      "outputs": [
        {
          "output_type": "execute_result",
          "data": {
            "text/plain": [
              "Knight    174\n",
              "Bishop    141\n",
              "Rook      139\n",
              "Queen     115\n",
              "Pawn       82\n",
              "Name: Image_Class, dtype: int64"
            ]
          },
          "metadata": {},
          "execution_count": 54
        }
      ]
    },
    {
      "cell_type": "code",
      "execution_count": 55,
      "metadata": {
        "id": "6Co7J6EbBdf7",
        "outputId": "452ffdcd-e304-4962-8225-a8d4aad20110",
        "colab": {
          "base_uri": "https://localhost:8080/",
          "height": 441
        }
      },
      "outputs": [
        {
          "output_type": "stream",
          "name": "stdout",
          "text": [
            "Index(['Knight', 'Pawn', 'Queen', 'Rook', 'Bishop'], dtype='object')\n"
          ]
        },
        {
          "output_type": "execute_result",
          "data": {
            "text/plain": [
              "                                            Image_Path  Image_Class\n",
              "0    /content/drive/MyDrive/Chess_Project/data/-Kni...            0\n",
              "1    /content/drive/MyDrive/Chess_Project/data/-Kni...            0\n",
              "2    /content/drive/MyDrive/Chess_Project/data/-Kni...            0\n",
              "3    /content/drive/MyDrive/Chess_Project/data/-Kni...            0\n",
              "4    /content/drive/MyDrive/Chess_Project/data/-Kni...            0\n",
              "..                                                 ...          ...\n",
              "646  /content/drive/MyDrive/Chess_Project/data/-Kni...            0\n",
              "647  /content/drive/MyDrive/Chess_Project/data/-Kni...            0\n",
              "648  /content/drive/MyDrive/Chess_Project/data/-Kni...            0\n",
              "649  /content/drive/MyDrive/Chess_Project/data/-Kni...            0\n",
              "650  /content/drive/MyDrive/Chess_Project/data/-Kni...            0\n",
              "\n",
              "[651 rows x 2 columns]"
            ],
            "text/html": [
              "\n",
              "  <div id=\"df-133a78bd-1960-485d-bf25-15607f01eaad\">\n",
              "    <div class=\"colab-df-container\">\n",
              "      <div>\n",
              "<style scoped>\n",
              "    .dataframe tbody tr th:only-of-type {\n",
              "        vertical-align: middle;\n",
              "    }\n",
              "\n",
              "    .dataframe tbody tr th {\n",
              "        vertical-align: top;\n",
              "    }\n",
              "\n",
              "    .dataframe thead th {\n",
              "        text-align: right;\n",
              "    }\n",
              "</style>\n",
              "<table border=\"1\" class=\"dataframe\">\n",
              "  <thead>\n",
              "    <tr style=\"text-align: right;\">\n",
              "      <th></th>\n",
              "      <th>Image_Path</th>\n",
              "      <th>Image_Class</th>\n",
              "    </tr>\n",
              "  </thead>\n",
              "  <tbody>\n",
              "    <tr>\n",
              "      <th>0</th>\n",
              "      <td>/content/drive/MyDrive/Chess_Project/data/-Kni...</td>\n",
              "      <td>0</td>\n",
              "    </tr>\n",
              "    <tr>\n",
              "      <th>1</th>\n",
              "      <td>/content/drive/MyDrive/Chess_Project/data/-Kni...</td>\n",
              "      <td>0</td>\n",
              "    </tr>\n",
              "    <tr>\n",
              "      <th>2</th>\n",
              "      <td>/content/drive/MyDrive/Chess_Project/data/-Kni...</td>\n",
              "      <td>0</td>\n",
              "    </tr>\n",
              "    <tr>\n",
              "      <th>3</th>\n",
              "      <td>/content/drive/MyDrive/Chess_Project/data/-Kni...</td>\n",
              "      <td>0</td>\n",
              "    </tr>\n",
              "    <tr>\n",
              "      <th>4</th>\n",
              "      <td>/content/drive/MyDrive/Chess_Project/data/-Kni...</td>\n",
              "      <td>0</td>\n",
              "    </tr>\n",
              "    <tr>\n",
              "      <th>...</th>\n",
              "      <td>...</td>\n",
              "      <td>...</td>\n",
              "    </tr>\n",
              "    <tr>\n",
              "      <th>646</th>\n",
              "      <td>/content/drive/MyDrive/Chess_Project/data/-Kni...</td>\n",
              "      <td>0</td>\n",
              "    </tr>\n",
              "    <tr>\n",
              "      <th>647</th>\n",
              "      <td>/content/drive/MyDrive/Chess_Project/data/-Kni...</td>\n",
              "      <td>0</td>\n",
              "    </tr>\n",
              "    <tr>\n",
              "      <th>648</th>\n",
              "      <td>/content/drive/MyDrive/Chess_Project/data/-Kni...</td>\n",
              "      <td>0</td>\n",
              "    </tr>\n",
              "    <tr>\n",
              "      <th>649</th>\n",
              "      <td>/content/drive/MyDrive/Chess_Project/data/-Kni...</td>\n",
              "      <td>0</td>\n",
              "    </tr>\n",
              "    <tr>\n",
              "      <th>650</th>\n",
              "      <td>/content/drive/MyDrive/Chess_Project/data/-Kni...</td>\n",
              "      <td>0</td>\n",
              "    </tr>\n",
              "  </tbody>\n",
              "</table>\n",
              "<p>651 rows × 2 columns</p>\n",
              "</div>\n",
              "      <button class=\"colab-df-convert\" onclick=\"convertToInteractive('df-133a78bd-1960-485d-bf25-15607f01eaad')\"\n",
              "              title=\"Convert this dataframe to an interactive table.\"\n",
              "              style=\"display:none;\">\n",
              "        \n",
              "  <svg xmlns=\"http://www.w3.org/2000/svg\" height=\"24px\"viewBox=\"0 0 24 24\"\n",
              "       width=\"24px\">\n",
              "    <path d=\"M0 0h24v24H0V0z\" fill=\"none\"/>\n",
              "    <path d=\"M18.56 5.44l.94 2.06.94-2.06 2.06-.94-2.06-.94-.94-2.06-.94 2.06-2.06.94zm-11 1L8.5 8.5l.94-2.06 2.06-.94-2.06-.94L8.5 2.5l-.94 2.06-2.06.94zm10 10l.94 2.06.94-2.06 2.06-.94-2.06-.94-.94-2.06-.94 2.06-2.06.94z\"/><path d=\"M17.41 7.96l-1.37-1.37c-.4-.4-.92-.59-1.43-.59-.52 0-1.04.2-1.43.59L10.3 9.45l-7.72 7.72c-.78.78-.78 2.05 0 2.83L4 21.41c.39.39.9.59 1.41.59.51 0 1.02-.2 1.41-.59l7.78-7.78 2.81-2.81c.8-.78.8-2.07 0-2.86zM5.41 20L4 18.59l7.72-7.72 1.47 1.35L5.41 20z\"/>\n",
              "  </svg>\n",
              "      </button>\n",
              "      \n",
              "  <style>\n",
              "    .colab-df-container {\n",
              "      display:flex;\n",
              "      flex-wrap:wrap;\n",
              "      gap: 12px;\n",
              "    }\n",
              "\n",
              "    .colab-df-convert {\n",
              "      background-color: #E8F0FE;\n",
              "      border: none;\n",
              "      border-radius: 50%;\n",
              "      cursor: pointer;\n",
              "      display: none;\n",
              "      fill: #1967D2;\n",
              "      height: 32px;\n",
              "      padding: 0 0 0 0;\n",
              "      width: 32px;\n",
              "    }\n",
              "\n",
              "    .colab-df-convert:hover {\n",
              "      background-color: #E2EBFA;\n",
              "      box-shadow: 0px 1px 2px rgba(60, 64, 67, 0.3), 0px 1px 3px 1px rgba(60, 64, 67, 0.15);\n",
              "      fill: #174EA6;\n",
              "    }\n",
              "\n",
              "    [theme=dark] .colab-df-convert {\n",
              "      background-color: #3B4455;\n",
              "      fill: #D2E3FC;\n",
              "    }\n",
              "\n",
              "    [theme=dark] .colab-df-convert:hover {\n",
              "      background-color: #434B5C;\n",
              "      box-shadow: 0px 1px 3px 1px rgba(0, 0, 0, 0.15);\n",
              "      filter: drop-shadow(0px 1px 2px rgba(0, 0, 0, 0.3));\n",
              "      fill: #FFFFFF;\n",
              "    }\n",
              "  </style>\n",
              "\n",
              "      <script>\n",
              "        const buttonEl =\n",
              "          document.querySelector('#df-133a78bd-1960-485d-bf25-15607f01eaad button.colab-df-convert');\n",
              "        buttonEl.style.display =\n",
              "          google.colab.kernel.accessAllowed ? 'block' : 'none';\n",
              "\n",
              "        async function convertToInteractive(key) {\n",
              "          const element = document.querySelector('#df-133a78bd-1960-485d-bf25-15607f01eaad');\n",
              "          const dataTable =\n",
              "            await google.colab.kernel.invokeFunction('convertToInteractive',\n",
              "                                                     [key], {});\n",
              "          if (!dataTable) return;\n",
              "\n",
              "          const docLinkHtml = 'Like what you see? Visit the ' +\n",
              "            '<a target=\"_blank\" href=https://colab.research.google.com/notebooks/data_table.ipynb>data table notebook</a>'\n",
              "            + ' to learn more about interactive tables.';\n",
              "          element.innerHTML = '';\n",
              "          dataTable['output_type'] = 'display_data';\n",
              "          await google.colab.output.renderOutput(dataTable, element);\n",
              "          const docLink = document.createElement('div');\n",
              "          docLink.innerHTML = docLinkHtml;\n",
              "          element.appendChild(docLink);\n",
              "        }\n",
              "      </script>\n",
              "    </div>\n",
              "  </div>\n",
              "  "
            ]
          },
          "metadata": {},
          "execution_count": 55
        }
      ],
      "source": [
        "categories = pd.factorize(df['Image_Class'])[1]\n",
        "print(categories)\n",
        "df['Image_Class'] = pd.factorize(df['Image_Class'])[0]\n",
        "df"
      ]
    },
    {
      "cell_type": "code",
      "execution_count": 56,
      "metadata": {
        "id": "iSIsh1G72Ytm",
        "colab": {
          "base_uri": "https://localhost:8080/",
          "height": 36
        },
        "outputId": "f26cd093-6b4a-4447-ddcd-3afe75fe7249"
      },
      "outputs": [
        {
          "output_type": "execute_result",
          "data": {
            "text/plain": [
              "'cuda'"
            ],
            "application/vnd.google.colaboratory.intrinsic+json": {
              "type": "string"
            }
          },
          "metadata": {},
          "execution_count": 56
        }
      ],
      "source": [
        "import pandas as pd\n",
        "import numpy as np\n",
        "import matplotlib.pyplot as plt\n",
        "import cv2\n",
        "from google.colab.patches import cv2_imshow\n",
        "import torch\n",
        "from PIL import Image\n",
        "from torch.utils.data import DataLoader,Dataset\n",
        "import os\n",
        "\n",
        "device = \"cuda\" if torch.cuda.is_available() else \"cpu\"\n",
        "device"
      ]
    },
    {
      "cell_type": "code",
      "execution_count": 57,
      "metadata": {
        "id": "zMCBR3h22ZM6"
      },
      "outputs": [],
      "source": [
        "import torchvision\n",
        "from torchvision import transforms\n",
        "from torchvision.datasets import ImageFolder\n",
        "import os\n",
        "\n",
        "preprocess = transforms.Compose([\n",
        "    transforms.Resize((224,224)),\n",
        "    transforms.RandomRotation(15),\n",
        "    transforms.RandomHorizontalFlip(),\n",
        "    transforms.ToTensor(),\n",
        "    transforms.Normalize(\n",
        "        [0.485, 0.456, 0.406], \n",
        "        [0.229, 0.224, 0.225])\n",
        "])"
      ]
    },
    {
      "cell_type": "code",
      "execution_count": 58,
      "metadata": {
        "id": "uIVjaSIp_A7c"
      },
      "outputs": [],
      "source": [
        "class ImageDataset(Dataset):\n",
        "    def __init__(self, df, transform = None):\n",
        "        self.df = df\n",
        "        self.transform = transform\n",
        "        \n",
        "    def __len__(self):\n",
        "        return len(self.df)\n",
        "    \n",
        "    def __getitem__(self, index):\n",
        "        image = Image.fromarray(cv2.cvtColor(cv2.imread(self.df.iloc[index,0]),cv2.COLOR_BGR2RGB))\n",
        "        image=self.transform(image)\n",
        "        y = torch.tensor(int(self.df.iloc[index,1]))\n",
        "\n",
        "        return image, y"
      ]
    },
    {
      "cell_type": "code",
      "execution_count": 59,
      "metadata": {
        "id": "MTnf16UT_CIg"
      },
      "outputs": [],
      "source": [
        "train_dataset = ImageDataset(df, transform = preprocess)"
      ]
    },
    {
      "cell_type": "code",
      "execution_count": 60,
      "metadata": {
        "id": "b4IjFykb_Grt"
      },
      "outputs": [],
      "source": [
        "from torch.utils.data.dataloader import DataLoader\n",
        "from torch.utils.data import random_split"
      ]
    },
    {
      "cell_type": "code",
      "execution_count": 61,
      "metadata": {
        "id": "a61-rM45C5wh",
        "colab": {
          "base_uri": "https://localhost:8080/"
        },
        "outputId": "1ea9a7f3-de49-474a-d188-a87ffcfcfdd6"
      },
      "outputs": [
        {
          "output_type": "stream",
          "name": "stdout",
          "text": [
            "Length of Train Data : 521\n",
            "Length of Validation Data : 130\n"
          ]
        }
      ],
      "source": [
        "validation_data_size = round(0.20*(len(train_dataset)))\n",
        "train_data_size = len(train_dataset) - validation_data_size \n",
        "\n",
        "train_data, validation_data  = random_split(train_dataset, [train_data_size, validation_data_size])\n",
        "print(f\"Length of Train Data : {len(train_data)}\")\n",
        "print(f\"Length of Validation Data : {len(validation_data)}\")"
      ]
    },
    {
      "cell_type": "code",
      "execution_count": 62,
      "metadata": {
        "id": "ygXLuSpG_Jkc"
      },
      "outputs": [],
      "source": [
        "batch_size = 16\n",
        "\n",
        "train_DL = DataLoader(train_data, batch_size, shuffle = True)\n",
        "validation_DL = DataLoader(validation_data, batch_size, shuffle = True)"
      ]
    },
    {
      "cell_type": "markdown",
      "source": [
        "**Treinamento com CNN**"
      ],
      "metadata": {
        "id": "tG1ZawhURKct"
      }
    },
    {
      "cell_type": "code",
      "execution_count": 63,
      "metadata": {
        "id": "_NkhSdq9_Ly1"
      },
      "outputs": [],
      "source": [
        "from torchvision import datasets, models, transforms\n",
        "import torch.nn as nn\n",
        "import torch.nn.functional as F\n",
        "from sklearn.metrics import confusion_matrix, ConfusionMatrixDisplay"
      ]
    },
    {
      "cell_type": "code",
      "execution_count": 64,
      "metadata": {
        "id": "bDDFhN4n_QXJ"
      },
      "outputs": [],
      "source": [
        "def train_loop(model, dataloader, loss_func, optimizer):\n",
        "    model.train()\n",
        "    cumloss = 0.0\n",
        "    running_accuracy = 0.0\n",
        "\n",
        "    for i, data in enumerate(dataloader):\n",
        "        imgs, labels = data\n",
        "    \n",
        "        imgs, labels = imgs.to(device), labels.to(device)\n",
        "    \n",
        "        optimizer.zero_grad()\n",
        "\n",
        "        pred = model(imgs)\n",
        "\n",
        "        loss = loss_func(pred, labels)\n",
        "        loss.backward()\n",
        "        optimizer.step()\n",
        "\n",
        "        cumloss += loss.item()\n",
        "        \n",
        "        ps = F.softmax(pred,-1)\n",
        "        top_p, top_class = ps.topk(k = 1, dim = 1)\n",
        "        equals = top_class == labels.view(*top_class.shape)\n",
        "\n",
        "        accuracy = torch.mean(equals.type(torch.float))\n",
        "\n",
        "        running_accuracy += accuracy\n",
        "\n",
        "    return cumloss / len(dataloader), running_accuracy/len(dataloader)\n",
        "\n",
        "def validate(model, dataloader, loss_func):\n",
        "    model.eval()\n",
        "    cumloss = 0.0\n",
        "    running_accuracy_val = 0.0\n",
        "    with torch.no_grad():\n",
        "        for imgs, labels in dataloader:\n",
        "            imgs, labels = imgs.to(device), labels.to(device)\n",
        "\n",
        "            pred = model(imgs)\n",
        "            loss = loss_func(pred, labels)\n",
        "            cumloss += loss.item()\n",
        "\n",
        "            ps = F.softmax(pred,-1)\n",
        "            top_p, top_class = ps.topk(k = 1, dim = 1)\n",
        "            equals = top_class == labels.view(*top_class.shape)\n",
        "\n",
        "            accuracy_val = torch.mean(equals.type(torch.float))\n",
        "\n",
        "            running_accuracy_val += accuracy_val\n",
        "\n",
        "        return cumloss / len(dataloader), running_accuracy_val/len(dataloader)"
      ]
    },
    {
      "cell_type": "code",
      "execution_count": 65,
      "metadata": {
        "id": "_WfW8xkk_RSJ"
      },
      "outputs": [],
      "source": [
        "model_ft = models.resnet50(weights=\"IMAGENET1K_V1\")\n",
        "model_ft = model_ft.to(device)\n",
        "loss_func = nn.CrossEntropyLoss()\n",
        "optimizer = torch.optim.SGD(model_ft.parameters(), lr=0.001)"
      ]
    },
    {
      "cell_type": "code",
      "execution_count": 66,
      "metadata": {
        "id": "nRu3fLna_Yg_",
        "outputId": "5d7d7145-bb87-403a-e49c-2cf27733cafe",
        "colab": {
          "base_uri": "https://localhost:8080/"
        }
      },
      "outputs": [
        {
          "output_type": "stream",
          "name": "stdout",
          "text": [
            "Epoch: 0; Train Loss: 7.443193941405325 Accuracy train: 0.02041245810687542\n",
            "Epoch: 0; Validate Loss: 5.90006340874566 Accuracy validation: 0.0625\n",
            "Epoch: 1; Train Loss: 3.9826478307897393 Accuracy train: 0.23127105832099915\n",
            "Epoch: 1; Validate Loss: 2.8529087172614203 Accuracy validation: 0.3402777910232544\n",
            "Epoch: 2; Train Loss: 2.05910832231695 Accuracy train: 0.5608165264129639\n",
            "Epoch: 2; Validate Loss: 1.4794895648956299 Accuracy validation: 0.6388888955116272\n",
            "Epoch: 3; Train Loss: 1.2686904759118052 Accuracy train: 0.6660353541374207\n",
            "Epoch: 3; Validate Loss: 1.0014839304818048 Accuracy validation: 0.7291666865348816\n",
            "Epoch: 4; Train Loss: 0.884462547121626 Accuracy train: 0.7546296715736389\n",
            "Epoch: 4; Validate Loss: 0.8616585930188497 Accuracy validation: 0.756944477558136\n",
            "Epoch: 5; Train Loss: 0.6699306540416948 Accuracy train: 0.8421717286109924\n",
            "Epoch: 5; Validate Loss: 0.7772673434681363 Accuracy validation: 0.819444477558136\n",
            "Epoch: 6; Train Loss: 0.5692007514563474 Accuracy train: 0.8413299918174744\n",
            "Epoch: 6; Validate Loss: 0.5544363293382857 Accuracy validation: 0.881944477558136\n",
            "Epoch: 7; Train Loss: 0.47014095972884784 Accuracy train: 0.8781565427780151\n",
            "Epoch: 7; Validate Loss: 0.6180089745256636 Accuracy validation: 0.7986111044883728\n",
            "Epoch: 8; Train Loss: 0.4137171556552251 Accuracy train: 0.8872054219245911\n",
            "Epoch: 8; Validate Loss: 0.5229535533322228 Accuracy validation: 0.8611111044883728\n",
            "Epoch: 9; Train Loss: 0.3801121120200013 Accuracy train: 0.8962542414665222\n",
            "Epoch: 9; Validate Loss: 0.4551435675885942 Accuracy validation: 0.8680555820465088\n",
            "Epoch: 10; Train Loss: 0.3275659375570037 Accuracy train: 0.9223484992980957\n",
            "Epoch: 10; Validate Loss: 0.3573959635363685 Accuracy validation: 0.9305555820465088\n",
            "Epoch: 11; Train Loss: 0.29619859700853174 Accuracy train: 0.9265573024749756\n",
            "Epoch: 11; Validate Loss: 0.3666761798991097 Accuracy validation: 0.9166666865348816\n",
            "Epoch: 12; Train Loss: 0.29284728182987735 Accuracy train: 0.9118266701698303\n",
            "Epoch: 12; Validate Loss: 0.37845587068133885 Accuracy validation: 0.9236111044883728\n",
            "Epoch: 13; Train Loss: 0.22935074296864597 Accuracy train: 0.946969747543335\n",
            "Epoch: 13; Validate Loss: 0.2777298407422172 Accuracy validation: 0.9166666865348816\n",
            "Epoch: 14; Train Loss: 0.17079784540515958 Accuracy train: 0.9640151858329773\n",
            "Epoch: 14; Validate Loss: 0.3454928282234404 Accuracy validation: 0.8888888955116272\n",
            "Epoch: 15; Train Loss: 0.16770931942896408 Accuracy train: 0.9583333730697632\n",
            "Epoch: 15; Validate Loss: 0.3113400985797246 Accuracy validation: 0.9305555820465088\n",
            "Epoch: 16; Train Loss: 0.18317602010387363 Accuracy train: 0.9515993595123291\n",
            "Epoch: 16; Validate Loss: 0.2627013648549716 Accuracy validation: 0.9305555820465088\n",
            "Epoch: 17; Train Loss: 0.18623295855341535 Accuracy train: 0.9526515603065491\n",
            "Epoch: 17; Validate Loss: 0.5190549923313988 Accuracy validation: 0.881944477558136\n",
            "Epoch: 18; Train Loss: 0.17188073649550928 Accuracy train: 0.9564394354820251\n",
            "Epoch: 18; Validate Loss: 0.2623681624730428 Accuracy validation: 0.9305555820465088\n",
            "Epoch: 19; Train Loss: 0.17382839818795523 Accuracy train: 0.9583333730697632\n",
            "Epoch: 19; Validate Loss: 0.21385759689534703 Accuracy validation: 0.9583333134651184\n",
            "Epoch: 20; Train Loss: 0.13716374823089802 Accuracy train: 0.9678030610084534\n",
            "Epoch: 20; Validate Loss: 0.2807478975090716 Accuracy validation: 0.9305555820465088\n",
            "Epoch: 21; Train Loss: 0.14437142149968582 Accuracy train: 0.9526515603065491\n",
            "Epoch: 21; Validate Loss: 0.2814120880017678 Accuracy validation: 0.9236111044883728\n",
            "Epoch: 22; Train Loss: 0.13275335401748167 Accuracy train: 0.9734848737716675\n",
            "Epoch: 22; Validate Loss: 0.22994733187887403 Accuracy validation: 0.9236111044883728\n",
            "Epoch: 23; Train Loss: 0.11889071587586042 Accuracy train: 0.9640151858329773\n",
            "Epoch: 23; Validate Loss: 0.24809645116329193 Accuracy validation: 0.9166666865348816\n",
            "Epoch: 24; Train Loss: 0.1386382378299128 Accuracy train: 0.9553872346878052\n",
            "Epoch: 24; Validate Loss: 0.2531771622598171 Accuracy validation: 0.9236111044883728\n"
          ]
        }
      ],
      "source": [
        "epochs = 25\n",
        "conv_train_losses = []\n",
        "conv_validation_losses = []\n",
        "for t in range(epochs):\n",
        "    train_loss, acc_train = train_loop(model_ft, train_DL, loss_func, optimizer)\n",
        "    conv_train_losses.append(train_loss)\n",
        "    print(f\"\\rEpoch: {t}; Train Loss: {train_loss} Accuracy train: {acc_train}\")\n",
        "    validation_loss, acc_validation = validate(model_ft, validation_DL, loss_func)\n",
        "    conv_validation_losses.append(validation_loss)\n",
        "    print(f\"\\rEpoch: {t}; Validate Loss: {validation_loss} Accuracy validation: {acc_validation}\")"
      ]
    },
    {
      "cell_type": "markdown",
      "source": [
        "**Matriz de Confusão**"
      ],
      "metadata": {
        "id": "E5F7TasFRgyj"
      }
    },
    {
      "cell_type": "code",
      "execution_count": 67,
      "metadata": {
        "id": "D-TFjg5J3BsS",
        "outputId": "67e66f33-1751-4121-dbb1-d4249a13ef9d",
        "colab": {
          "base_uri": "https://localhost:8080/"
        }
      },
      "outputs": [
        {
          "output_type": "stream",
          "name": "stdout",
          "text": [
            "tensor([[37.,  0.,  1.,  0.,  1.],\n",
            "        [ 0., 17.,  0.,  0.,  1.],\n",
            "        [ 0.,  0., 14.,  0.,  1.],\n",
            "        [ 0.,  0.,  1., 28.,  0.],\n",
            "        [ 0.,  4.,  0.,  0., 25.]])\n"
          ]
        }
      ],
      "source": [
        "from sklearn.metrics import confusion_matrix\n",
        "import seaborn as sns\n",
        "import pandas as pd\n",
        "\n",
        "y_pred = []\n",
        "y_true = []\n",
        "nb_classes = 5\n",
        "\n",
        "confusion_matrix = torch.zeros(nb_classes, nb_classes)\n",
        "\n",
        "for imgs, labels in validation_DL:\n",
        "  imgs, labels = imgs.to(device), labels.to(device)\n",
        "\n",
        "  pred = model_ft(imgs)\n",
        "\n",
        "  _, preds = torch.max(pred, 1)\n",
        "  for t, p in zip(labels.view(-1), preds.view(-1)):\n",
        "    confusion_matrix[t.long(), p.long()] += 1\n",
        "\n",
        "print(confusion_matrix)"
      ]
    },
    {
      "cell_type": "code",
      "execution_count": 68,
      "metadata": {
        "id": "gpn0RyP65k9y",
        "outputId": "2d35db4d-884c-4193-b460-aa0ce6c1cd6b",
        "colab": {
          "base_uri": "https://localhost:8080/",
          "height": 516
        }
      },
      "outputs": [
        {
          "output_type": "execute_result",
          "data": {
            "text/plain": [
              "Text(0.5, 23.52222222222222, 'Predicted label')"
            ]
          },
          "metadata": {},
          "execution_count": 68
        },
        {
          "output_type": "display_data",
          "data": {
            "text/plain": [
              "<Figure size 640x480 with 2 Axes>"
            ],
            "image/png": "[encoded data removed]"
          },
          "metadata": {}
        }
      ],
      "source": [
        "class_names = list(categories)\n",
        "df_cm = pd.DataFrame(confusion_matrix, index=class_names, columns=class_names).astype(int)\n",
        "heatmap = sns.heatmap(df_cm, annot=True, fmt=\"d\")\n",
        "\n",
        "heatmap.yaxis.set_ticklabels(heatmap.yaxis.get_ticklabels(), rotation=0, ha='right',fontsize=15)\n",
        "heatmap.xaxis.set_ticklabels(heatmap.xaxis.get_ticklabels(), rotation=45, ha='right',fontsize=15)\n",
        "plt.ylabel('True label')\n",
        "plt.xlabel('Predicted label')"
      ]
    }
  ],
  "metadata": {
    "accelerator": "GPU",
    "colab": {
      "provenance": [],
      "authorship_tag": "ABX9TyOv05uJUpN8DLiKgd/kVzFd",
      "include_colab_link": true
    },
    "gpuClass": "standard",
    "kernelspec": {
      "display_name": "Python 3",
      "name": "python3"
    },
    "language_info": {
      "name": "python"
    }
  },
  "nbformat": 4,
  "nbformat_minor": 0
}